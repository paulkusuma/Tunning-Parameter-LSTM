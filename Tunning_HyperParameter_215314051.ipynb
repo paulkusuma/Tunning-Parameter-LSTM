{
 "cells": [
  {
   "cell_type": "markdown",
   "id": "8a0eebcf-fddd-416a-9777-d520aabb4d8c",
   "metadata": {},
   "source": [
    "### Tugas Tunning Hyper Parameter\n",
    "\n",
    "### Nama : Paul Wijaya Verda Kusuma\n",
    "### NIM : 215314051\n",
    "### Mata Kuliah Times Series"
   ]
  },
  {
   "cell_type": "code",
   "execution_count": 1,
   "id": "40389d4c-2818-4c7d-9b05-8b508b282bf3",
   "metadata": {},
   "outputs": [],
   "source": [
    "import numpy as np\n",
    "import pandas as pd\n",
    "import matplotlib.pyplot as plt\n",
    "\n",
    "from sklearn.preprocessing import MinMaxScaler\n",
    "from sklearn.metrics import mean_squared_error, mean_absolute_error\n",
    "from sklearn.model_selection import GridSearchCV\n",
    "\n",
    "from tensorflow.keras.models import Sequential\n",
    "from tensorflow.keras.layers import LSTM, Dense\n",
    "from scikeras.wrappers import KerasRegressor"
   ]
  },
  {
   "cell_type": "code",
   "execution_count": 2,
   "id": "a0cf4d04-6502-45f5-8b1f-b930b38b18b0",
   "metadata": {},
   "outputs": [
    {
     "name": "stdout",
     "output_type": "stream",
     "text": [
      "                   Close\n",
      "Date                    \n",
      "2020-01-02  13689.231445\n",
      "2020-01-03  13884.786133\n",
      "2020-01-04  13884.786133\n",
      "2020-01-05  13884.786133\n",
      "2020-01-06  13934.316406\n"
     ]
    }
   ],
   "source": [
    "# ==========================================\n",
    "# 1. Load Dataset hasil preprocessing\n",
    "# ==========================================\n",
    "df = pd.read_csv('usd_idr_preprocessed.csv', parse_dates=['Date'], index_col='Date')\n",
    "# Cek beberapa baris awal\n",
    "print(df.head())"
   ]
  },
  {
   "cell_type": "code",
   "execution_count": 3,
   "id": "7772642c-ea7f-4a95-8e3a-e7c1a6cced10",
   "metadata": {},
   "outputs": [],
   "source": [
    "# Ambil kolom 'Close' dan ubah jadi array 2D\n",
    "data = df['Close'].values.reshape(-1, 1)"
   ]
  },
  {
   "cell_type": "code",
   "execution_count": 4,
   "id": "5132147d-0c18-462d-932d-9973be20e5ce",
   "metadata": {},
   "outputs": [],
   "source": [
    "# ==========================================\n",
    "# 2. Normalisasi agar cocok untuk input LSTM\n",
    "# ==========================================\n",
    "scaler = MinMaxScaler()\n",
    "data_scaled = scaler.fit_transform(data)"
   ]
  },
  {
   "cell_type": "code",
   "execution_count": 5,
   "id": "122ea896-3ceb-4e2c-a26a-71a9435d0ef4",
   "metadata": {},
   "outputs": [],
   "source": [
    "# ==========================================\n",
    "# 3. Split data training dan testing\n",
    "# (misal 30 hari terakhir sebagai testing)\n",
    "# ==========================================\n",
    "train_size = len(data_scaled) - 30\n",
    "train_data = data_scaled[:train_size]\n",
    "test_data = data_scaled[train_size:]"
   ]
  },
  {
   "cell_type": "code",
   "execution_count": 6,
   "id": "ad1f2d9f-a288-4812-af63-d14ae5b0c424",
   "metadata": {},
   "outputs": [],
   "source": [
    "# ==========================================\n",
    "# 4. Fungsi Sliding Window\n",
    "# Digunakan untuk membuat data time series\n",
    "# ==========================================\n",
    "def create_dataset(dataset, window_size=10):\n",
    "    X, y = [], []\n",
    "    for i in range(len(dataset) - window_size):\n",
    "        X.append(dataset[i:i+window_size])\n",
    "        y.append(dataset[i+window_size])\n",
    "    return np.array(X), np.array(y)\n",
    "\n",
    "# Tentukan panjang window (timesteps)\n",
    "window_size = 20\n",
    "\n",
    "X_train, y_train = create_dataset(train_data, window_size)\n",
    "X_test, y_test = create_dataset(test_data, window_size)"
   ]
  },
  {
   "cell_type": "code",
   "execution_count": 7,
   "id": "e1f2df39-f7ee-45eb-b538-3df62c2151c0",
   "metadata": {},
   "outputs": [],
   "source": [
    "# ==========================================\n",
    "# 5. Ubah bentuk data ke 3D (samples, timesteps, features)\n",
    "# ==========================================\n",
    "X_train = X_train.reshape((X_train.shape[0], X_train.shape[1], 1))\n",
    "X_test  = X_test.reshape((X_test.shape[0], X_test.shape[1], 1))"
   ]
  },
  {
   "cell_type": "code",
   "execution_count": 8,
   "id": "ff1d0f49-a0b8-42f9-b959-3945887ef75e",
   "metadata": {},
   "outputs": [],
   "source": [
    "# ==========================================\n",
    "# 6. Build model function (untuk GridSearch)\n",
    "# ==========================================\n",
    "def build_model(units=50):\n",
    "    model = Sequential()\n",
    "    model.add(LSTM(units, activation='relu', input_shape=(window_size, 1)))\n",
    "    model.add(Dense(1))\n",
    "    model.compile(optimizer='adam', loss='mse')\n",
    "    return model"
   ]
  },
  {
   "cell_type": "code",
   "execution_count": null,
   "id": "71f140f8-f32f-40cb-9239-bd8550995d25",
   "metadata": {
    "scrolled": true
   },
   "outputs": [
    {
     "name": "stderr",
     "output_type": "stream",
     "text": [
      "C:\\Users\\LENOVO\\AppData\\Local\\Programs\\Python\\Python310\\lib\\site-packages\\keras\\src\\layers\\rnn\\rnn.py:200: UserWarning: Do not pass an `input_shape`/`input_dim` argument to a layer. When using Sequential models, prefer using an `Input(shape)` object as the first layer in the model instead.\n",
      "  super().__init__(**kwargs)\n",
      "C:\\Users\\LENOVO\\AppData\\Local\\Programs\\Python\\Python310\\lib\\site-packages\\keras\\src\\layers\\rnn\\rnn.py:200: UserWarning: Do not pass an `input_shape`/`input_dim` argument to a layer. When using Sequential models, prefer using an `Input(shape)` object as the first layer in the model instead.\n",
      "  super().__init__(**kwargs)\n",
      "C:\\Users\\LENOVO\\AppData\\Local\\Programs\\Python\\Python310\\lib\\site-packages\\keras\\src\\layers\\rnn\\rnn.py:200: UserWarning: Do not pass an `input_shape`/`input_dim` argument to a layer. When using Sequential models, prefer using an `Input(shape)` object as the first layer in the model instead.\n",
      "  super().__init__(**kwargs)\n",
      "C:\\Users\\LENOVO\\AppData\\Local\\Programs\\Python\\Python310\\lib\\site-packages\\keras\\src\\layers\\rnn\\rnn.py:200: UserWarning: Do not pass an `input_shape`/`input_dim` argument to a layer. When using Sequential models, prefer using an `Input(shape)` object as the first layer in the model instead.\n",
      "  super().__init__(**kwargs)\n",
      "C:\\Users\\LENOVO\\AppData\\Local\\Programs\\Python\\Python310\\lib\\site-packages\\keras\\src\\layers\\rnn\\rnn.py:200: UserWarning: Do not pass an `input_shape`/`input_dim` argument to a layer. When using Sequential models, prefer using an `Input(shape)` object as the first layer in the model instead.\n",
      "  super().__init__(**kwargs)\n",
      "C:\\Users\\LENOVO\\AppData\\Local\\Programs\\Python\\Python310\\lib\\site-packages\\keras\\src\\layers\\rnn\\rnn.py:200: UserWarning: Do not pass an `input_shape`/`input_dim` argument to a layer. When using Sequential models, prefer using an `Input(shape)` object as the first layer in the model instead.\n",
      "  super().__init__(**kwargs)\n",
      "C:\\Users\\LENOVO\\AppData\\Local\\Programs\\Python\\Python310\\lib\\site-packages\\keras\\src\\layers\\rnn\\rnn.py:200: UserWarning: Do not pass an `input_shape`/`input_dim` argument to a layer. When using Sequential models, prefer using an `Input(shape)` object as the first layer in the model instead.\n",
      "  super().__init__(**kwargs)\n",
      "C:\\Users\\LENOVO\\AppData\\Local\\Programs\\Python\\Python310\\lib\\site-packages\\keras\\src\\layers\\rnn\\rnn.py:200: UserWarning: Do not pass an `input_shape`/`input_dim` argument to a layer. When using Sequential models, prefer using an `Input(shape)` object as the first layer in the model instead.\n",
      "  super().__init__(**kwargs)\n",
      "C:\\Users\\LENOVO\\AppData\\Local\\Programs\\Python\\Python310\\lib\\site-packages\\keras\\src\\layers\\rnn\\rnn.py:200: UserWarning: Do not pass an `input_shape`/`input_dim` argument to a layer. When using Sequential models, prefer using an `Input(shape)` object as the first layer in the model instead.\n",
      "  super().__init__(**kwargs)\n"
     ]
    }
   ],
   "source": [
    "# ==========================================\n",
    "# 7. Hyperparameter Tuning untuk LSTM menggunakan GridSearchCV\n",
    "# ==========================================\n",
    "from scikeras.wrappers import KerasRegressor # Wrapper Scikit-learn untuk model Keras\n",
    "from sklearn.model_selection import GridSearchCV # Untuk pencarian parameter terbaik\n",
    "\n",
    "# Inisialisasi KerasRegressor\n",
    "# - 'build_model' adalah fungsi yang mengembalikan model Keras\n",
    "# - Parameter seperti 'units', 'optimizer', dsb. harus didefinisikan sebagai default\n",
    "regressor = KerasRegressor(\n",
    "    model=build_model,\n",
    "    units=50,            # default (wajib dideklarasi di sini!)\n",
    "    optimizer='adam',    # default\n",
    "    epochs=30,           # default\n",
    "    batch_size=16,       # default\n",
    "    verbose=0\n",
    ")\n",
    "\n",
    "# Definisikan parameter grid yang akan diuji oleh GridSearch\n",
    "# Tidak perlu menambahkan prefix 'model__' di scikeras (berbeda dari keras.wrappers)\n",
    "param_grid = {\n",
    "    \"units\": [32, 64, 128],\n",
    "    \"optimizer\": ['adam', 'rmsprop'],\n",
    "    \"batch_size\": [16, 32],\n",
    "    \"epochs\": [30, 50],\n",
    "}\n",
    "\n",
    "# Inisialisasi GridSearchCV:\n",
    "# - estimator: model yang akan dituning\n",
    "# - param_grid: kombinasi parameter yang akan diuji\n",
    "# - scoring: metrik evaluasi (negatif MSE karena GridSearchCV ingin *maximize* skor)\n",
    "# - cv: jumlah fold cross-validation\n",
    "grid = GridSearchCV(estimator=regressor,\n",
    "                    param_grid=param_grid,\n",
    "                    scoring='neg_mean_squared_error',\n",
    "                    cv=3)\n",
    "\n",
    "# Fit ke data pelatihan (proses tuning dimulai)\n",
    "grid_result = grid.fit(X_train, y_train)\n",
    "\n",
    "# Tampilkan hasil terbaik\n",
    "print(\"Best Params:\", grid_result.best_params_)\n",
    "print(\"Best Score (neg-MSE):\", grid_result.best_score_)"
   ]
  },
  {
   "cell_type": "code",
   "execution_count": null,
   "id": "87eb226e-fad1-41c7-8d54-89e71a8d80a4",
   "metadata": {},
   "outputs": [],
   "source": [
    "# ==========================================\n",
    "# 8. Prediksi & visualisasi hasil LSTM\n",
    "# ==========================================\n",
    "best_model = grid_result.best_estimator_\n",
    "\n",
    "# Prediksi dengan model terbaik\n",
    "predicted = best_model.predict(X_test)\n",
    "predicted = predicted.reshape(-1, 1)\n",
    "\n",
    "# Invers skala untuk interpretasi\n",
    "predicted_rescaled = scaler.inverse_transform(predicted)\n",
    "actual_rescaled = scaler.inverse_transform(y_test)\n",
    "\n",
    "\n",
    "# Invers skala\n",
    "predicted_rescaled = scaler.inverse_transform(predicted)\n",
    "actual_rescaled = scaler.inverse_transform(y_test)"
   ]
  },
  {
   "cell_type": "code",
   "execution_count": null,
   "id": "578eaa20-8498-4947-9687-4606cde7e822",
   "metadata": {},
   "outputs": [],
   "source": [
    "# Plot hasil prediksi vs aktual\n",
    "plt.figure(figsize=(12, 6))\n",
    "plt.plot(actual_rescaled, label='Actual (Test)')\n",
    "plt.plot(predicted_rescaled, label='LSTM Prediction')\n",
    "plt.title('LSTM Forecasting USD/IDR')\n",
    "plt.xlabel('Time')\n",
    "plt.ylabel('Exchange Rate')\n",
    "plt.legend()\n",
    "plt.grid(True)\n",
    "plt.show()"
   ]
  },
  {
   "cell_type": "code",
   "execution_count": null,
   "id": "4bee0a69-9996-4c24-841d-885e9f900b31",
   "metadata": {},
   "outputs": [],
   "source": [
    "# ==========================================\n",
    "# 9. Prediksi & visualisasi hasil LSTM\n",
    "# ==========================================\n",
    "mse_lstm = mean_squared_error(actual_rescaled, predicted_rescaled)\n",
    "mae_lstm = mean_absolute_error(actual_rescaled, predicted_rescaled)\n",
    "\n",
    "print(f\"[LSTM] Mean Squared Error: {mse_lstm}\")\n",
    "print(f\"[LSTM] Mean Absolute Error: {mae_lstm}\")"
   ]
  },
  {
   "cell_type": "markdown",
   "id": "7fd5747c-82b6-4e0b-a019-363d01885bff",
   "metadata": {},
   "source": [
    "### ANALISA HASIL"
   ]
  },
  {
   "cell_type": "markdown",
   "id": "99c178fd-6de5-447c-a941-329a190e47d6",
   "metadata": {},
   "source": []
  }
 ],
 "metadata": {
  "kernelspec": {
   "display_name": "Python 3 (ipykernel)",
   "language": "python",
   "name": "python3"
  },
  "language_info": {
   "codemirror_mode": {
    "name": "ipython",
    "version": 3
   },
   "file_extension": ".py",
   "mimetype": "text/x-python",
   "name": "python",
   "nbconvert_exporter": "python",
   "pygments_lexer": "ipython3",
   "version": "3.10.10"
  }
 },
 "nbformat": 4,
 "nbformat_minor": 5
}
